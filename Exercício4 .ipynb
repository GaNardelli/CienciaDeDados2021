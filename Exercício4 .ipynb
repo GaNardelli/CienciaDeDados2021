{
 "cells": [
  {
   "cell_type": "markdown",
   "metadata": {
    "collapsed": false
   },
   "source": [
    "# Exercício 4"
   ]
  },
  {
   "cell_type": "markdown",
   "metadata": {
    "collapsed": false
   },
   "source": [
    "## 1"
   ]
  },
  {
   "cell_type": "code",
   "execution_count": 7,
   "metadata": {
    "cocalc": {
     "outputs": {
      "0": {
       "name": "input",
       "opts": {
        "password": false,
        "prompt": "Insira o valor 1:"
       },
       "output_type": "stream",
       "value": "1"
      },
      "1": {
       "name": "input",
       "opts": {
        "password": false,
        "prompt": "Insira o valor 2:"
       },
       "output_type": "stream",
       "value": "1"
      },
      "10": {
       "name": "input",
       "opts": {
        "password": false,
        "prompt": "Insira o valor 11:"
       },
       "output_type": "stream",
       "value": "1"
      },
      "11": {
       "name": "input",
       "opts": {
        "password": false,
        "prompt": "Insira o valor 12:"
       },
       "output_type": "stream",
       "value": "2"
      },
      "12": {
       "name": "input",
       "opts": {
        "password": false,
        "prompt": "Insira o valor 13:"
       },
       "output_type": "stream",
       "value": "3"
      },
      "13": {
       "name": "input",
       "opts": {
        "password": false,
        "prompt": "Insira o valor 14:"
       },
       "output_type": "stream",
       "value": "4"
      },
      "14": {
       "name": "input",
       "opts": {
        "password": false,
        "prompt": "Insira o valor 15:"
       },
       "output_type": "stream",
       "value": "1"
      },
      "15": {
       "name": "input",
       "opts": {
        "password": false,
        "prompt": "Insira o valor 16:"
       },
       "output_type": "stream",
       "value": "2"
      },
      "16": {
       "name": "input",
       "opts": {
        "password": false,
        "prompt": "Insira o valor 17:"
       },
       "output_type": "stream",
       "value": "3"
      },
      "17": {
       "name": "input",
       "opts": {
        "password": false,
        "prompt": "Insira o valor 18:"
       },
       "output_type": "stream",
       "value": "4"
      },
      "18": {
       "name": "input",
       "opts": {
        "password": false,
        "prompt": "Insira o valor 19:"
       },
       "output_type": "stream",
       "value": "4"
      },
      "19": {
       "name": "input",
       "opts": {
        "password": false,
        "prompt": "Insira o valor 20:"
       },
       "output_type": "stream",
       "value": "4"
      },
      "2": {
       "name": "input",
       "opts": {
        "password": false,
        "prompt": "Insira o valor 3:"
       },
       "output_type": "stream",
       "value": "1"
      },
      "3": {
       "name": "input",
       "opts": {
        "password": false,
        "prompt": "Insira o valor 4:"
       },
       "output_type": "stream",
       "value": "2"
      },
      "4": {
       "name": "input",
       "opts": {
        "password": false,
        "prompt": "Insira o valor 5:"
       },
       "output_type": "stream",
       "value": "2"
      },
      "5": {
       "name": "input",
       "opts": {
        "password": false,
        "prompt": "Insira o valor 6:"
       },
       "output_type": "stream",
       "value": "2"
      },
      "6": {
       "name": "input",
       "opts": {
        "password": false,
        "prompt": "Insira o valor 7:"
       },
       "output_type": "stream",
       "value": "3"
      },
      "7": {
       "name": "input",
       "opts": {
        "password": false,
        "prompt": "Insira o valor 8:"
       },
       "output_type": "stream",
       "value": "3"
      },
      "8": {
       "name": "input",
       "opts": {
        "password": false,
        "prompt": "Insira o valor 9:"
       },
       "output_type": "stream",
       "value": "4"
      },
      "9": {
       "name": "input",
       "opts": {
        "password": false,
        "prompt": "Insira o valor 10:"
       },
       "output_type": "stream",
       "value": "4"
      }
     }
    },
    "collapsed": false,
    "scrolled": true
   },
   "outputs": [
    {
     "name": "stdout",
     "output_type": "stream",
     "text": "Insira o valor 1: 1"
    },
    {
     "name": "stdout",
     "output_type": "stream",
     "text": "Insira o valor 2: 1"
    },
    {
     "name": "stdout",
     "output_type": "stream",
     "text": "Insira o valor 3: 1"
    },
    {
     "name": "stdout",
     "output_type": "stream",
     "text": "Insira o valor 4: 2"
    },
    {
     "name": "stdout",
     "output_type": "stream",
     "text": "Insira o valor 5: 2"
    },
    {
     "name": "stdout",
     "output_type": "stream",
     "text": "Insira o valor 6: 2"
    },
    {
     "name": "stdout",
     "output_type": "stream",
     "text": "Insira o valor 7: 3"
    },
    {
     "name": "stdout",
     "output_type": "stream",
     "text": "Insira o valor 8: 3"
    },
    {
     "name": "stdout",
     "output_type": "stream",
     "text": "Insira o valor 9: 4"
    },
    {
     "name": "stdout",
     "output_type": "stream",
     "text": "Insira o valor 10: 4"
    },
    {
     "name": "stdout",
     "output_type": "stream",
     "text": "Insira o valor 11: 1"
    },
    {
     "name": "stdout",
     "output_type": "stream",
     "text": "Insira o valor 12: 2"
    },
    {
     "name": "stdout",
     "output_type": "stream",
     "text": "Insira o valor 13: 3"
    },
    {
     "name": "stdout",
     "output_type": "stream",
     "text": "Insira o valor 14: 4"
    },
    {
     "name": "stdout",
     "output_type": "stream",
     "text": "Insira o valor 15: 1"
    },
    {
     "name": "stdout",
     "output_type": "stream",
     "text": "Insira o valor 16: 2"
    },
    {
     "name": "stdout",
     "output_type": "stream",
     "text": "Insira o valor 17: 3"
    },
    {
     "name": "stdout",
     "output_type": "stream",
     "text": "Insira o valor 18: 4"
    },
    {
     "name": "stdout",
     "output_type": "stream",
     "text": "Insira o valor 19: 4"
    },
    {
     "name": "stdout",
     "output_type": "stream",
     "text": "Insira o valor 20: 4"
    }
   ],
   "source": [
    "lista = [float(input(\"Insira o valor \" + str(x+1) + \":\" )) for x in range(20)]\n",
    "\n",
    "for i in lista:\n",
    "    if i % 2 == 0:\n",
    "        print(i)"
   ]
  },
  {
   "cell_type": "markdown",
   "metadata": {
    "collapsed": false
   },
   "source": [
    "## 2"
   ]
  },
  {
   "cell_type": "code",
   "execution_count": 9,
   "metadata": {
    "cocalc": {
     "outputs": {
      "0": {
       "name": "input",
       "opts": {
        "password": false,
        "prompt": "Insira a nota 1:"
       },
       "output_type": "stream",
       "value": "1"
      },
      "1": {
       "name": "input",
       "opts": {
        "password": false,
        "prompt": "Insira a nota 2:"
       },
       "output_type": "stream",
       "value": "2"
      },
      "2": {
       "name": "input",
       "opts": {
        "password": false,
        "prompt": "Insira a nota 3:"
       },
       "output_type": "stream",
       "value": "3"
      },
      "3": {
       "name": "input",
       "opts": {
        "password": false,
        "prompt": "Insira a nota 4:"
       },
       "output_type": "stream",
       "value": "4"
      }
     }
    },
    "collapsed": false
   },
   "outputs": [
    {
     "name": "stdout",
     "output_type": "stream",
     "text": "Insira a nota 1: 1"
    },
    {
     "name": "stdout",
     "output_type": "stream",
     "text": "Insira a nota 2: 2"
    },
    {
     "name": "stdout",
     "output_type": "stream",
     "text": "Insira a nota 3: 3"
    },
    {
     "name": "stdout",
     "output_type": "stream",
     "text": "Insira a nota 4: 4"
    }
   ],
   "source": [
    "notas = [float(input(\"Insira a nota \" + str(x+1) + \":\" )) for x in range(4)]"
   ]
  },
  {
   "cell_type": "markdown",
   "metadata": {
    "collapsed": false
   },
   "source": [
    "## 3"
   ]
  },
  {
   "cell_type": "code",
   "execution_count": 11,
   "metadata": {
    "collapsed": false
   },
   "outputs": [
    {
     "name": "stdout",
     "output_type": "stream",
     "text": [
      "Nota do aluno 0: 1.0\n",
      "Nota do aluno 1: 2.0\n",
      "Nota do aluno 2: 3.0\n",
      "Nota do aluno 3: 4.0\n",
      "Média dos alunos: 2.5\n"
     ]
    }
   ],
   "source": [
    "media = sum(notas)/len(notas)\n",
    "for i in range(len(notas)):\n",
    "    print(\"Nota do aluno \" + str(i) + ': ' + str(notas[i]))\n",
    "\n",
    "print('Média dos alunos: ' + str(media))"
   ]
  },
  {
   "cell_type": "markdown",
   "metadata": {
    "collapsed": false
   },
   "source": [
    "## 4"
   ]
  },
  {
   "cell_type": "code",
   "execution_count": 24,
   "metadata": {
    "cocalc": {
     "outputs": {
      "0": {
       "name": "input",
       "opts": {
        "password": false,
        "prompt": "Insira a altura 1:"
       },
       "output_type": "stream"
      }
     }
    },
    "collapsed": false
   },
   "outputs": [
    {
     "name": "stdout",
     "output_type": "stream",
     "text": "Insira a altura 1: "
    },
    {
     "ename": "KeyboardInterrupt",
     "evalue": "Interrupted by user",
     "output_type": "error",
     "traceback": [
      "\u001b[0;31m---------------------------------------------------------------------------\u001b[0m",
      "\u001b[0;31mKeyboardInterrupt\u001b[0m                         Traceback (most recent call last)",
      "\u001b[0;32m/tmp/ipykernel_339/1026817781.py\u001b[0m in \u001b[0;36m<module>\u001b[0;34m\u001b[0m\n\u001b[0;32m----> 1\u001b[0;31m \u001b[0maltura\u001b[0m \u001b[0;34m=\u001b[0m \u001b[0;34m[\u001b[0m\u001b[0mfloat\u001b[0m\u001b[0;34m(\u001b[0m\u001b[0minput\u001b[0m\u001b[0;34m(\u001b[0m\u001b[0;34m\"Insira a altura \"\u001b[0m \u001b[0;34m+\u001b[0m \u001b[0mstr\u001b[0m\u001b[0;34m(\u001b[0m\u001b[0mx\u001b[0m\u001b[0;34m+\u001b[0m\u001b[0;36m1\u001b[0m\u001b[0;34m)\u001b[0m \u001b[0;34m+\u001b[0m \u001b[0;34m\":\"\u001b[0m \u001b[0;34m)\u001b[0m\u001b[0;34m)\u001b[0m \u001b[0;32mfor\u001b[0m \u001b[0mx\u001b[0m \u001b[0;32min\u001b[0m \u001b[0mrange\u001b[0m\u001b[0;34m(\u001b[0m\u001b[0;36m5\u001b[0m\u001b[0;34m)\u001b[0m\u001b[0;34m]\u001b[0m\u001b[0;34m\u001b[0m\u001b[0;34m\u001b[0m\u001b[0m\n\u001b[0m\u001b[1;32m      2\u001b[0m \u001b[0mpeso\u001b[0m \u001b[0;34m=\u001b[0m \u001b[0;34m[\u001b[0m\u001b[0mfloat\u001b[0m\u001b[0;34m(\u001b[0m\u001b[0minput\u001b[0m\u001b[0;34m(\u001b[0m\u001b[0;34m\"Insira o peso \"\u001b[0m \u001b[0;34m+\u001b[0m \u001b[0mstr\u001b[0m\u001b[0;34m(\u001b[0m\u001b[0mx\u001b[0m\u001b[0;34m+\u001b[0m\u001b[0;36m1\u001b[0m\u001b[0;34m)\u001b[0m \u001b[0;34m+\u001b[0m \u001b[0;34m\":\"\u001b[0m \u001b[0;34m)\u001b[0m\u001b[0;34m)\u001b[0m \u001b[0;32mfor\u001b[0m \u001b[0mx\u001b[0m \u001b[0;32min\u001b[0m \u001b[0mrange\u001b[0m\u001b[0;34m(\u001b[0m\u001b[0;36m5\u001b[0m\u001b[0;34m)\u001b[0m\u001b[0;34m]\u001b[0m\u001b[0;34m\u001b[0m\u001b[0;34m\u001b[0m\u001b[0m\n\u001b[1;32m      3\u001b[0m \u001b[0mpeso_max\u001b[0m \u001b[0;34m=\u001b[0m \u001b[0mmax\u001b[0m\u001b[0;34m(\u001b[0m\u001b[0mpeso\u001b[0m\u001b[0;34m)\u001b[0m\u001b[0;34m\u001b[0m\u001b[0;34m\u001b[0m\u001b[0m\n\u001b[1;32m      4\u001b[0m \u001b[0maltura_max\u001b[0m \u001b[0;34m=\u001b[0m \u001b[0mmax\u001b[0m\u001b[0;34m(\u001b[0m\u001b[0maltura\u001b[0m\u001b[0;34m)\u001b[0m\u001b[0;34m\u001b[0m\u001b[0;34m\u001b[0m\u001b[0m\n\u001b[1;32m      5\u001b[0m \u001b[0mprint\u001b[0m\u001b[0;34m(\u001b[0m\u001b[0;34m\"Maior altura: \"\u001b[0m \u001b[0;34m+\u001b[0m \u001b[0mstr\u001b[0m\u001b[0;34m(\u001b[0m\u001b[0maltura_max\u001b[0m\u001b[0;34m)\u001b[0m\u001b[0;34m)\u001b[0m\u001b[0;34m\u001b[0m\u001b[0;34m\u001b[0m\u001b[0m\n",
      "\u001b[0;32m/tmp/ipykernel_339/1026817781.py\u001b[0m in \u001b[0;36m<listcomp>\u001b[0;34m(.0)\u001b[0m\n\u001b[0;32m----> 1\u001b[0;31m \u001b[0maltura\u001b[0m \u001b[0;34m=\u001b[0m \u001b[0;34m[\u001b[0m\u001b[0mfloat\u001b[0m\u001b[0;34m(\u001b[0m\u001b[0minput\u001b[0m\u001b[0;34m(\u001b[0m\u001b[0;34m\"Insira a altura \"\u001b[0m \u001b[0;34m+\u001b[0m \u001b[0mstr\u001b[0m\u001b[0;34m(\u001b[0m\u001b[0mx\u001b[0m\u001b[0;34m+\u001b[0m\u001b[0;36m1\u001b[0m\u001b[0;34m)\u001b[0m \u001b[0;34m+\u001b[0m \u001b[0;34m\":\"\u001b[0m \u001b[0;34m)\u001b[0m\u001b[0;34m)\u001b[0m \u001b[0;32mfor\u001b[0m \u001b[0mx\u001b[0m \u001b[0;32min\u001b[0m \u001b[0mrange\u001b[0m\u001b[0;34m(\u001b[0m\u001b[0;36m5\u001b[0m\u001b[0;34m)\u001b[0m\u001b[0;34m]\u001b[0m\u001b[0;34m\u001b[0m\u001b[0;34m\u001b[0m\u001b[0m\n\u001b[0m\u001b[1;32m      2\u001b[0m \u001b[0mpeso\u001b[0m \u001b[0;34m=\u001b[0m \u001b[0;34m[\u001b[0m\u001b[0mfloat\u001b[0m\u001b[0;34m(\u001b[0m\u001b[0minput\u001b[0m\u001b[0;34m(\u001b[0m\u001b[0;34m\"Insira o peso \"\u001b[0m \u001b[0;34m+\u001b[0m \u001b[0mstr\u001b[0m\u001b[0;34m(\u001b[0m\u001b[0mx\u001b[0m\u001b[0;34m+\u001b[0m\u001b[0;36m1\u001b[0m\u001b[0;34m)\u001b[0m \u001b[0;34m+\u001b[0m \u001b[0;34m\":\"\u001b[0m \u001b[0;34m)\u001b[0m\u001b[0;34m)\u001b[0m \u001b[0;32mfor\u001b[0m \u001b[0mx\u001b[0m \u001b[0;32min\u001b[0m \u001b[0mrange\u001b[0m\u001b[0;34m(\u001b[0m\u001b[0;36m5\u001b[0m\u001b[0;34m)\u001b[0m\u001b[0;34m]\u001b[0m\u001b[0;34m\u001b[0m\u001b[0;34m\u001b[0m\u001b[0m\n\u001b[1;32m      3\u001b[0m \u001b[0mpeso_max\u001b[0m \u001b[0;34m=\u001b[0m \u001b[0mmax\u001b[0m\u001b[0;34m(\u001b[0m\u001b[0mpeso\u001b[0m\u001b[0;34m)\u001b[0m\u001b[0;34m\u001b[0m\u001b[0;34m\u001b[0m\u001b[0m\n\u001b[1;32m      4\u001b[0m \u001b[0maltura_max\u001b[0m \u001b[0;34m=\u001b[0m \u001b[0mmax\u001b[0m\u001b[0;34m(\u001b[0m\u001b[0maltura\u001b[0m\u001b[0;34m)\u001b[0m\u001b[0;34m\u001b[0m\u001b[0;34m\u001b[0m\u001b[0m\n\u001b[1;32m      5\u001b[0m \u001b[0mprint\u001b[0m\u001b[0;34m(\u001b[0m\u001b[0;34m\"Maior altura: \"\u001b[0m \u001b[0;34m+\u001b[0m \u001b[0mstr\u001b[0m\u001b[0;34m(\u001b[0m\u001b[0maltura_max\u001b[0m\u001b[0;34m)\u001b[0m\u001b[0;34m)\u001b[0m\u001b[0;34m\u001b[0m\u001b[0;34m\u001b[0m\u001b[0m\n",
      "\u001b[0;32m/usr/local/lib/python3.8/dist-packages/ipykernel/kernelbase.py\u001b[0m in \u001b[0;36mraw_input\u001b[0;34m(self, prompt)\u001b[0m\n\u001b[1;32m    979\u001b[0m                 \u001b[0;34m\"raw_input was called, but this frontend does not support input requests.\"\u001b[0m\u001b[0;34m\u001b[0m\u001b[0;34m\u001b[0m\u001b[0m\n\u001b[1;32m    980\u001b[0m             )\n\u001b[0;32m--> 981\u001b[0;31m         return self._input_request(\n\u001b[0m\u001b[1;32m    982\u001b[0m             \u001b[0mstr\u001b[0m\u001b[0;34m(\u001b[0m\u001b[0mprompt\u001b[0m\u001b[0;34m)\u001b[0m\u001b[0;34m,\u001b[0m\u001b[0;34m\u001b[0m\u001b[0;34m\u001b[0m\u001b[0m\n\u001b[1;32m    983\u001b[0m             \u001b[0mself\u001b[0m\u001b[0;34m.\u001b[0m\u001b[0m_parent_ident\u001b[0m\u001b[0;34m[\u001b[0m\u001b[0;34m\"shell\"\u001b[0m\u001b[0;34m]\u001b[0m\u001b[0;34m,\u001b[0m\u001b[0;34m\u001b[0m\u001b[0;34m\u001b[0m\u001b[0m\n",
      "\u001b[0;32m/usr/local/lib/python3.8/dist-packages/ipykernel/kernelbase.py\u001b[0m in \u001b[0;36m_input_request\u001b[0;34m(self, prompt, ident, parent, password)\u001b[0m\n\u001b[1;32m   1024\u001b[0m             \u001b[0;32mexcept\u001b[0m \u001b[0mKeyboardInterrupt\u001b[0m\u001b[0;34m:\u001b[0m\u001b[0;34m\u001b[0m\u001b[0;34m\u001b[0m\u001b[0m\n\u001b[1;32m   1025\u001b[0m                 \u001b[0;31m# re-raise KeyboardInterrupt, to truncate traceback\u001b[0m\u001b[0;34m\u001b[0m\u001b[0;34m\u001b[0m\u001b[0;34m\u001b[0m\u001b[0m\n\u001b[0;32m-> 1026\u001b[0;31m                 \u001b[0;32mraise\u001b[0m \u001b[0mKeyboardInterrupt\u001b[0m\u001b[0;34m(\u001b[0m\u001b[0;34m\"Interrupted by user\"\u001b[0m\u001b[0;34m)\u001b[0m \u001b[0;32mfrom\u001b[0m \u001b[0;32mNone\u001b[0m\u001b[0;34m\u001b[0m\u001b[0;34m\u001b[0m\u001b[0m\n\u001b[0m\u001b[1;32m   1027\u001b[0m             \u001b[0;32mexcept\u001b[0m \u001b[0mException\u001b[0m\u001b[0;34m:\u001b[0m\u001b[0;34m\u001b[0m\u001b[0;34m\u001b[0m\u001b[0m\n\u001b[1;32m   1028\u001b[0m                 \u001b[0mself\u001b[0m\u001b[0;34m.\u001b[0m\u001b[0mlog\u001b[0m\u001b[0;34m.\u001b[0m\u001b[0mwarning\u001b[0m\u001b[0;34m(\u001b[0m\u001b[0;34m\"Invalid Message:\"\u001b[0m\u001b[0;34m,\u001b[0m \u001b[0mexc_info\u001b[0m\u001b[0;34m=\u001b[0m\u001b[0;32mTrue\u001b[0m\u001b[0;34m)\u001b[0m\u001b[0;34m\u001b[0m\u001b[0;34m\u001b[0m\u001b[0m\n",
      "\u001b[0;31mKeyboardInterrupt\u001b[0m: Interrupted by user"
     ]
    }
   ],
   "source": [
    "altura = [float(input(\"Insira a altura \" + str(x+1) + \":\" )) for x in range(5)]\n",
    "peso = [float(input(\"Insira o peso \" + str(x+1) + \":\" )) for x in range(5)]\n",
    "peso_max = max(peso)\n",
    "altura_max = max(altura)\n",
    "print(\"Maior altura: \" + str(altura_max))\n",
    "print(\"Maior peso: \" + str(peso_max))"
   ]
  },
  {
   "cell_type": "markdown",
   "metadata": {
    "collapsed": false
   },
   "source": [
    "## 5\n"
   ]
  },
  {
   "cell_type": "code",
   "execution_count": 22,
   "metadata": {
    "collapsed": false
   },
   "outputs": [
    {
     "name": "stdout",
     "output_type": "stream",
     "text": [
      "[0, 0, 1, 1, 2, 2, 3, 3, 4, 4, 5, 5, 6, 6, 7, 7, 8, 8, 9, 9]\n"
     ]
    }
   ],
   "source": [
    "def intercala(x,y):\n",
    "    intercalada = []\n",
    "    for a,b in zip(x, y):\n",
    "        intercalada.append(a)\n",
    "        intercalada.append(b)\n",
    "    return intercalada\n",
    "\n",
    "vetor1 = range(10)\n",
    "vetor2 = range(10)\n",
    "\n",
    "vetorIntercalado = intercala(vetor1,vetor2)\n",
    "print(vetorIntercalado)"
   ]
  },
  {
   "cell_type": "markdown",
   "metadata": {
    "collapsed": false
   },
   "source": [
    "## 6"
   ]
  },
  {
   "cell_type": "code",
   "execution_count": 34,
   "metadata": {
    "collapsed": false
   },
   "outputs": [
    {
     "data": {
      "text/plain": [
       "[0.8900000000000001,\n",
       " 1.33,\n",
       " 1.1299999999999994,\n",
       " 0.9900000000000002,\n",
       " 1.9000000000000004,\n",
       " 0.6799999999999997,\n",
       " 1.1799999999999997,\n",
       " 1.0999999999999996]"
      ]
     },
     "execution_count": 34,
     "metadata": {
     },
     "output_type": "execute_result"
    }
   ],
   "source": [
    "lista1 = [1.25, 2.14, 3.47,4.60, 5.59, 7.49, 8.17, 9.35, 10.45]\n",
    "intervaloTempo = []\n",
    "i = 0\n",
    "while i < len(lista1)-1:\n",
    "    intervaloTempo.append(lista1[i+1] - lista1[i])\n",
    "    i += 1\n",
    "    \n",
    "intervaloTempo"
   ]
  },
  {
   "cell_type": "code",
   "execution_count": 0,
   "metadata": {
    "collapsed": false
   },
   "outputs": [
   ],
   "source": [
    "\n"
   ]
  }
 ],
 "metadata": {
  "kernelspec": {
   "display_name": "Python 3 (system-wide)",
   "language": "python",
   "metadata": {
    "cocalc": {
     "description": "Python 3 programming language",
     "priority": 100,
     "url": "https://www.python.org/"
    }
   },
   "name": "python3",
   "resource_dir": "/ext/jupyter/kernels/python3"
  },
  "language_info": {
   "codemirror_mode": {
    "name": "ipython",
    "version": 3
   },
   "file_extension": ".py",
   "mimetype": "text/x-python",
   "name": "python",
   "nbconvert_exporter": "python",
   "pygments_lexer": "ipython3",
   "version": "3.8.10"
  }
 },
 "nbformat": 4,
 "nbformat_minor": 4
}