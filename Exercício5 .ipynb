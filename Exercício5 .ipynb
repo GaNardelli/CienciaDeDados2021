{
 "cells": [
  {
   "cell_type": "markdown",
   "metadata": {
    "collapsed": false
   },
   "source": [
    "# Exercício 5"
   ]
  },
  {
   "cell_type": "markdown",
   "metadata": {
    "collapsed": false
   },
   "source": [
    "Nome: Gabriel Nardelli"
   ]
  },
  {
   "cell_type": "markdown",
   "metadata": {
    "collapsed": false
   },
   "source": [
    "## Exercícios \n",
    "\n",
    "- Crie um  conjunto contendo os times participantes do campeonato paulista. \n",
    "- Crie um conjunto de times brasileiros na libertadores.\n",
    "- Determine quais times estão nas duas competições.\n",
    "- Quais estão em apenas uma delas?\n",
    "- Quais estão em pelo menos uma delas?\n",
    "\n",
    "(Escreva o código python para resolver o problema e não simplesmente a resposta.)"
   ]
  },
  {
   "cell_type": "markdown",
   "metadata": {
    "collapsed": false
   },
   "source": [
    "## Exercício:\n",
    "- Crie um dicionário com  nomes de pessoas e cidades de origem (no mínimo 10). \n",
    "- Determine quantas cidades diferentes aparecem nesse levantamento.\n",
    "-  Agrupe as pessoas de acordo com uma origem comum. "
   ]
  },
  {
   "cell_type": "markdown",
   "metadata": {
    "collapsed": false
   },
   "source": [
    "## Exercício:\n",
    "- Crie um dicionário com produtos e seus preços.\n",
    "- Ache o produto mais barato. \n",
    "- Determine o intervalo de variação do preço. \n",
    "- Crie um dicionário com produtos e suas marcas. \n",
    "- Para cada marca determine o intervalo de variação de preço. "
   ]
  },
  {
   "cell_type": "markdown",
   "metadata": {
    "collapsed": false
   },
   "source": [
    "# Exercício 1"
   ]
  },
  {
   "cell_type": "code",
   "execution_count": 1,
   "metadata": {
    "collapsed": false
   },
   "outputs": [
   ],
   "source": [
    "paulista = {'São Paulo', 'Corinthians', 'Bragantino', 'Ferroviária', 'Palmeiras', 'Novorizontino', 'Inter de Limeira', 'Mirassol', 'Guarani', 'Ponte Preta', 'Ituano', 'Santo André', 'Santos', 'Botafogo-SP', 'São Bento', 'São Caetano'}\n",
    "libertadores = {'Palmeiras', 'Flamengo', 'Internacional', 'Atlético Mineiro', 'São Paulo', 'Fluminense', 'Grêmio', 'Santos'}"
   ]
  },
  {
   "cell_type": "code",
   "execution_count": 2,
   "metadata": {
    "collapsed": false
   },
   "outputs": [
    {
     "data": {
      "text/plain": [
       "{'Palmeiras', 'Santos', 'São Paulo'}"
      ]
     },
     "execution_count": 2,
     "metadata": {
     },
     "output_type": "execute_result"
    }
   ],
   "source": [
    "ambas = paulista.intersection(libertadores)\n",
    "ambas"
   ]
  },
  {
   "cell_type": "code",
   "execution_count": 3,
   "metadata": {
    "collapsed": false
   },
   "outputs": [
    {
     "name": "stdout",
     "output_type": "stream",
     "text": [
      "Estão apenas no campeonato paulista: {'Corinthians', 'São Bento', 'Santo André', 'Novorizontino', 'Ponte Preta', 'São Caetano', 'Bragantino', 'Mirassol', 'Ferroviária', 'Guarani', 'Inter de Limeira', 'Botafogo-SP', 'Ituano'}\n",
      "Estão apenas na libertadores: {'Atlético Mineiro', 'Fluminense', 'Flamengo', 'Grêmio', 'Internacional'}\n"
     ]
    }
   ],
   "source": [
    "apenas_paulista = paulista.difference(libertadores)\n",
    "apenas_libertadores = libertadores.difference(paulista)\n",
    "print(f'Estão apenas no campeonato paulista: {apenas_paulista}')\n",
    "print(f'Estão apenas na libertadores: {apenas_libertadores}')"
   ]
  },
  {
   "cell_type": "code",
   "execution_count": 4,
   "metadata": {
    "collapsed": false
   },
   "outputs": [
    {
     "name": "stdout",
     "output_type": "stream",
     "text": [
      "Os times que estão em pelo menos uma delas, são: {'Fluminense', 'Corinthians', 'Mirassol', 'Grêmio', 'São Caetano', 'Novorizontino', 'Ferroviária', 'Ponte Preta', 'Atlético Mineiro', 'São Bento', 'Palmeiras', 'Flamengo', 'Santo André', 'Santos', 'São Paulo', 'Bragantino', 'Internacional', 'Guarani', 'Inter de Limeira', 'Botafogo-SP', 'Ituano'}\n"
     ]
    }
   ],
   "source": [
    "uma_delas = libertadores.union(paulista)\n",
    "print(f'Os times que estão em pelo menos uma delas, são: {uma_delas}')"
   ]
  },
  {
   "cell_type": "markdown",
   "metadata": {
    "collapsed": false
   },
   "source": [
    "# Exercício 2\n"
   ]
  },
  {
   "cell_type": "code",
   "execution_count": 5,
   "metadata": {
    "collapsed": false
   },
   "outputs": [
    {
     "name": "stdout",
     "output_type": "stream",
     "text": [
      "Número de cidades diferentes: 7\n"
     ]
    }
   ],
   "source": [
    "nome_origem = {'Roberto': 'Bragança',\n",
    "              'Jurema': 'Volta Redonda',\n",
    "              'Mikahil': 'São Paulo',\n",
    "              'Adamastor': 'São Paulo',\n",
    "              'Jorge': 'São João da Boa Vista',\n",
    "              'Alessandra': 'Piracicaba',\n",
    "              'Leon': 'Volta Redonda',\n",
    "              'Magnus': 'São Bernardo do Campo',\n",
    "              'Levy': 'Piracicaba',\n",
    "              'Anna' : 'Bofete'}\n",
    "\n",
    "cidades = set(nome_origem.values())\n",
    "print(f'Número de cidades diferentes: {len(cidades)}')"
   ]
  },
  {
   "cell_type": "code",
   "execution_count": 6,
   "metadata": {
    "collapsed": false
   },
   "outputs": [
    {
     "name": "stdout",
     "output_type": "stream",
     "text": [
      "{'Bragança': ['Roberto'], 'Volta Redonda': ['Jurema', 'Leon'], 'São Paulo': ['Mikahil', 'Adamastor'], 'São João da Boa Vista': ['Jorge'], 'Piracicaba': ['Alessandra', 'Levy'], 'São Bernardo do Campo': ['Magnus'], 'Bofete': ['Anna']}\n"
     ]
    }
   ],
   "source": [
    "res = {}\n",
    "for i, v in nome_origem.items():\n",
    "    res[v] = [i] if v not in res.keys() else res[v] + [i]\n",
    "\n",
    "print(str(res))\n"
   ]
  },
  {
   "cell_type": "markdown",
   "metadata": {
    "collapsed": false
   },
   "source": [
    "# Exercício 3\n"
   ]
  },
  {
   "cell_type": "code",
   "execution_count": 13,
   "metadata": {
    "collapsed": false
   },
   "outputs": [
    {
     "name": "stdout",
     "output_type": "stream",
     "text": [
      "O produto mais barato é Maçã R$ 2.0\n",
      "O produto mais barato é Alface R$ 2.0\n"
     ]
    }
   ],
   "source": [
    "produtos = {'Pêra': 3.3, \n",
    "            'Uva':2.2,\n",
    "           'Abobrinha' : 4.0,\n",
    "           'Maçã': 2.0,\n",
    "           'Banana Nanica': 6.0,\n",
    "           'Abacate': 12.7,\n",
    "           'Alface': 2.0,\n",
    "           'Beterraba': 5.0,\n",
    "           'Limão': 3.0,\n",
    "           'Laranja': 3.5}\n",
    "\n",
    "relacao = produtos.items()\n",
    "preco_min = min(list(produtos.values()))\n",
    "\n",
    "for k,v in relacao:\n",
    "    if v == preco_min:\n",
    "        print(f'O produto mais barato é {k} R$ {v}')\n"
   ]
  },
  {
   "cell_type": "code",
   "execution_count": 0,
   "metadata": {
    "collapsed": false
   },
   "outputs": [
   ],
   "source": [
   ]
  }
 ],
 "metadata": {
  "kernelspec": {
   "display_name": "Python 3 (system-wide)",
   "language": "python",
   "metadata": {
    "cocalc": {
     "description": "Python 3 programming language",
     "priority": 100,
     "url": "https://www.python.org/"
    }
   },
   "name": "python3",
   "resource_dir": "/ext/jupyter/kernels/python3"
  },
  "language_info": {
   "codemirror_mode": {
    "name": "ipython",
    "version": 3
   },
   "file_extension": ".py",
   "mimetype": "text/x-python",
   "name": "python",
   "nbconvert_exporter": "python",
   "pygments_lexer": "ipython3",
   "version": "3.8.10"
  }
 },
 "nbformat": 4,
 "nbformat_minor": 4
}