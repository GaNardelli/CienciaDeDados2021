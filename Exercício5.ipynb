{
 "cells": [
  {
   "cell_type": "markdown",
   "metadata": {
    "collapsed": false
   },
   "source": [
    "# Exercício 5"
   ]
  },
  {
   "cell_type": "markdown",
   "metadata": {
    "collapsed": false
   },
   "source": [
    "Nome: Gabriel Nardelli"
   ]
  },
  {
   "cell_type": "markdown",
   "metadata": {
    "collapsed": false
   },
   "source": [
    "## Exercícios \n",
    "\n",
    "- Crie um  conjunto contendo os times participantes do campeonato paulista. \n",
    "- Crie um conjunto de times brasileiros na libertadores.\n",
    "- Determine quais times estão nas duas competições.\n",
    "- Quais estão em apenas uma delas?\n",
    "- Quais estão em pelo menos uma delas?\n",
    "\n",
    "(Escreva o código python para resolver o problema e não simplesmente a resposta.)"
   ]
  },
  {
   "cell_type": "markdown",
   "metadata": {
    "collapsed": false
   },
   "source": [
    "## Exercício:\n",
    "- Crie um dicionário com  nomes de pessoas e cidades de origem (no mínimo 10). \n",
    "- Determine quantas cidades diferentes aparecem nesse levantamento.\n",
    "-  Agrupe as pessoas de acordo com uma origem comum. "
   ]
  },
  {
   "cell_type": "markdown",
   "metadata": {
    "collapsed": false
   },
   "source": [
    "# Exercício 1"
   ]
  },
  {
   "cell_type": "code",
   "execution_count": 1,
   "metadata": {
    "collapsed": false
   },
   "outputs": [
   ],
   "source": [
    "paulista = {'São Paulo', 'Corinthians', 'Bragantino', 'Ferroviária', 'Palmeiras', 'Novorizontino', 'Inter de Limeira', 'Mirassol', 'Guarani', 'Ponte Preta', 'Ituano', 'Santo André', 'Santos', 'Botafogo-SP', 'São Bento', 'São Caetano'}\n",
    "libertadores = {'Palmeiras', 'Flamengo', 'Internacional', 'Atlético Mineiro', 'São Paulo', 'Fluminense', 'Grêmio', 'Santos'}"
   ]
  },
  {
   "cell_type": "code",
   "execution_count": 3,
   "metadata": {
    "collapsed": false
   },
   "outputs": [
    {
     "data": {
      "text/plain": [
       "{'Palmeiras', 'Santos', 'São Paulo'}"
      ]
     },
     "execution_count": 3,
     "metadata": {
     },
     "output_type": "execute_result"
    }
   ],
   "source": [
    "ambas = paulista.intersection(libertadores)\n",
    "ambas"
   ]
  },
  {
   "cell_type": "code",
   "execution_count": 5,
   "metadata": {
    "collapsed": false
   },
   "outputs": [
    {
     "name": "stdout",
     "output_type": "stream",
     "text": [
      "Estão apenas no campeonato paulista: {'Ituano', 'Bragantino', 'Botafogo-SP', 'São Caetano', 'Santo André', 'São Bento', 'Corinthians', 'Inter de Limeira', 'Ferroviária', 'Ponte Preta', 'Guarani', 'Novorizontino', 'Mirassol'}\n",
      "Estão apenas na libertadores: {'Internacional', 'Grêmio', 'Flamengo', 'Fluminense', 'Atlético Mineiro'}\n"
     ]
    }
   ],
   "source": [
    "apenas_paulista = paulista.difference(libertadores)\n",
    "apenas_libertadores = libertadores.difference(paulista)\n",
    "print(f'Estão apenas no campeonato paulista: {apenas_paulista}')\n",
    "print(f'Estão apenas na libertadores: {apenas_libertadores}')"
   ]
  },
  {
   "cell_type": "code",
   "execution_count": 6,
   "metadata": {
    "collapsed": false
   },
   "outputs": [
    {
     "name": "stdout",
     "output_type": "stream",
     "text": [
      "Os times que estão em pelo menos uma delas, são: {'Palmeiras', 'Ituano', 'São Paulo', 'Botafogo-SP', 'Internacional', 'São Bento', 'Inter de Limeira', 'Santos', 'Flamengo', 'Novorizontino', 'Mirassol', 'Fluminense', 'Bragantino', 'São Caetano', 'Santo André', 'Corinthians', 'Ferroviária', 'Ponte Preta', 'Grêmio', 'Guarani', 'Atlético Mineiro'}\n"
     ]
    }
   ],
   "source": [
    "uma_delas = libertadores.union(paulista)\n",
    "print(f'Os times que estão em pelo menos uma delas, são: {uma_delas}')"
   ]
  },
  {
   "cell_type": "markdown",
   "metadata": {
    "collapsed": false
   },
   "source": [
    "# Exercício 2\n"
   ]
  },
  {
   "cell_type": "code",
   "execution_count": 29,
   "metadata": {
    "collapsed": false
   },
   "outputs": [
    {
     "name": "stdout",
     "output_type": "stream",
     "text": [
      "Número de cidades diferentes: 7\n"
     ]
    }
   ],
   "source": [
    "nome_origem = {'Roberto': 'Bragança',\n",
    "              'Jurema': 'Volta Redonda',\n",
    "              'Mikahil': 'São Paulo',\n",
    "              'Adamastor': 'São Paulo',\n",
    "              'Jorge': 'São João da Boa Vista',\n",
    "              'Alessandra': 'Piracicaba',\n",
    "              'Leon': 'Volta Redonda',\n",
    "              'Magnus': 'São Bernardo do Campo',\n",
    "              'Levy': 'Piracicaba',\n",
    "              'Anna' : 'Bofete'}\n",
    "\n",
    "cidades = set(nome_origem.values())\n",
    "print(f'Número de cidades diferentes: {len(cidades)}')"
   ]
  },
  {
   "cell_type": "code",
   "execution_count": 30,
   "metadata": {
    "collapsed": false
   },
   "outputs": [
    {
     "name": "stdout",
     "output_type": "stream",
     "text": [
      "{'Bragança': ['Roberto'], 'Volta Redonda': ['Jurema', 'Leon'], 'São Paulo': ['Mikahil', 'Adamastor'], 'São João da Boa Vista': ['Jorge'], 'Piracicaba': ['Alessandra', 'Levy'], 'São Bernardo do Campo': ['Magnus'], 'Bofete': ['Anna']}\n"
     ]
    }
   ],
   "source": [
    "res = {}\n",
    "for i, v in nome_origem.items():\n",
    "    res[v] = [i] if v not in res.keys() else res[v] + [i]\n",
    "\n",
    "print(str(res))\n"
   ]
  },
  {
   "cell_type": "code",
   "execution_count": 0,
   "metadata": {
    "collapsed": false
   },
   "outputs": [
   ],
   "source": [
   ]
  }
 ],
 "metadata": {
  "kernelspec": {
   "display_name": "Python 3 (system-wide)",
   "language": "python",
   "metadata": {
    "cocalc": {
     "description": "Python 3 programming language",
     "priority": 100,
     "url": "https://www.python.org/"
    }
   },
   "name": "python3",
   "resource_dir": "/ext/jupyter/kernels/python3"
  },
  "language_info": {
   "codemirror_mode": {
    "name": "ipython",
    "version": 3
   },
   "file_extension": ".py",
   "mimetype": "text/x-python",
   "name": "python",
   "nbconvert_exporter": "python",
   "pygments_lexer": "ipython3",
   "version": "3.8.10"
  }
 },
 "nbformat": 4,
 "nbformat_minor": 4
}
