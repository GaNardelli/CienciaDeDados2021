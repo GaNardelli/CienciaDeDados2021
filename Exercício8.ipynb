{
 "cells": [
  {
   "cell_type": "markdown",
   "metadata": {
    "collapsed": false
   },
   "source": [
    "# Exercício 8"
   ]
  },
  {
   "cell_type": "markdown",
   "metadata": {
    "collapsed": false
   },
   "source": [
    "## Exercícios\n",
    "\n",
    "1. Quando foi criado o primeiro arquivo?\n",
    "2. Quantos arquivos possuem nomes com mais do que 5 caracteres? "
   ]
  },
  {
   "cell_type": "markdown",
   "metadata": {
    "collapsed": false
   },
   "source": [
    "## Exercícios\n",
    "\n",
    "- Com base na wikipedia, determine a data de nascimento dos pais da Física Moderna:\n",
    "    - Albert Einstein\n",
    "    - Niels Bohr\n",
    "    - Max Born\n",
    "    - Max Plank \n",
    "    - Erwin Schrödinger\n",
    "    - Werner Heisenberg\n",
    "    - Paul Dirac\n",
    "\n",
    "- Crie um objeto DataFrame com essas informações. \n",
    "- Determine o dia da semana de nascimento de  cada um desses cientistas e inclua no DataFrame\n",
    "- Ache o número de dias de diferença entre o nascimento do primeiro e último a nascer e  inclua no DataFrame\n",
    "- Acha o signo de cada um deles e inclua no DataFrame. "
   ]
  },
  {
   "cell_type": "markdown",
   "metadata": {
    "collapsed": false
   },
   "source": [
    "# Exercício 1"
   ]
  },
  {
   "cell_type": "code",
   "execution_count": 135,
   "metadata": {
    "collapsed": false
   },
   "outputs": [
    {
     "name": "stdout",
     "output_type": "stream",
     "text": [
      "data de modificação do primeiro arquivo: 2021-08-26 13:33:01\n",
      "Numero de arquivos com mais de 5 caracteres: 6\n"
     ]
    }
   ],
   "source": [
    "import os\n",
    "import datetime\n",
    "\n",
    "t = []\n",
    "contador = 0 \n",
    "for diretorio, subpastas, arquivos in os.walk('./'):\n",
    "    for arquivo in arquivos:\n",
    "        t.append(os.path.getmtime(arquivo))\n",
    "        if len(os.path.splitext(os.path.basename(arquivo))[0]) >= 5:\n",
    "            contador += 1\n",
    "            \n",
    "print(f'data de modificação do primeiro arquivo: {datetime.datetime.fromtimestamp(min(t))}')\n",
    "print(f'Numero de arquivos com mais de 5 caracteres: {contador}')"
   ]
  },
  {
   "cell_type": "markdown",
   "metadata": {
    "collapsed": false
   },
   "source": [
    "# Exercício 2"
   ]
  },
  {
   "cell_type": "code",
   "execution_count": 136,
   "metadata": {
    "collapsed": false
   },
   "outputs": [
    {
     "name": "stdout",
     "output_type": "stream",
     "text": [
      "Albert Einstein nasceu no dia da semana: Sexta\n",
      "Niels Bohr nasceu no dia da semana: Quarta\n",
      "Max Born nasceu no dia da semana: Segunda\n",
      "Max Plank nasceu no dia da semana: Sexta\n",
      "Erwin Schrödinger nasceu no dia da semana: Sexta\n",
      "Werner Heisenberg nasceu no dia da semana: Quinta\n",
      "Paul Dirac nasceu no dia da semana: Terça\n"
     ]
    }
   ],
   "source": [
    "import pandas as pd\n",
    "from datetime import date\n",
    "\n",
    "fisicos = {\n",
    "    'Albert Einstein':\n",
    "    {\n",
    "        'dia':14,\n",
    "        'mes':3,\n",
    "        'ano':1879\n",
    "    },\n",
    "    'Niels Bohr':{\n",
    "        'dia':7,\n",
    "        'mes':10,\n",
    "        'ano':1885\n",
    "    },\n",
    "    'Max Born':{\n",
    "        'dia':11,\n",
    "        'mes':12,\n",
    "        'ano':1882\n",
    "    },\n",
    "    'Max Plank':{\n",
    "        'dia':23,\n",
    "        'mes':4,\n",
    "        'ano':1858\n",
    "    },\n",
    "    'Erwin Schrödinger':{\n",
    "        'dia':12,\n",
    "        'mes':8,\n",
    "        'ano':1887\n",
    "    },\n",
    "    'Werner Heisenberg':{\n",
    "        'dia':5,\n",
    "        'mes':12,\n",
    "        'ano':1901\n",
    "    },\n",
    "    'Paul Dirac':{\n",
    "        'dia':8,\n",
    "        'mes':7,\n",
    "        'ano':1902\n",
    "    },\n",
    "}\n",
    "\n",
    "dias_da_semana = {\n",
    "    1:'Segunda',\n",
    "    2:'Terça',\n",
    "    3:'Quarta',\n",
    "    4:'Quinta',\n",
    "    5:'Sexta',\n",
    "    6:'Sábado',\n",
    "    7:'Domingo'\n",
    "}\n",
    "\n",
    "df = pd.DataFrame(fisicos)\n",
    "data = []\n",
    "colunas = df.columns\n",
    "for cientista in colunas:\n",
    "    dia = date(df[cientista]['ano'],df[cientista]['mes'],df[cientista]['dia']).isoweekday()\n",
    "    data.append(date(df[cientista]['ano'],df[cientista]['mes'],df[cientista]['dia']))\n",
    "    print(f'{cientista} nasceu no dia da semana: {dias_da_semana[dia]}')\n",
    "\n"
   ]
  },
  {
   "cell_type": "code",
   "execution_count": 137,
   "metadata": {
    "collapsed": false
   },
   "outputs": [
    {
     "name": "stdout",
     "output_type": "stream",
     "text": [
      "A diferença entre o mais velho e o mais novo é de: 16146 days, 0:00:00\n"
     ]
    }
   ],
   "source": [
    "dft = df.T\n",
    "dft.insert(0, 'Datas', data)\n",
    "dias = dft['Datas'].max() - dft['Datas'].min() \n",
    "print(f'A diferença entre o mais velho e o mais novo é de: {dias}')"
   ]
  },
  {
   "cell_type": "code",
   "execution_count": 138,
   "metadata": {
    "collapsed": false
   },
   "outputs": [
    {
     "name": "stdout",
     "output_type": "stream",
     "text": [
      "Albert Einstein é de peixes\n",
      "Niels Bohr é de libra\n",
      "Max Born é de sagitario\n",
      "Max Plank é de touro\n",
      "Erwin Schrödinger é de leao\n",
      "Werner Heisenberg é de sagitario\n",
      "Paul Dirac é de cancer\n"
     ]
    }
   ],
   "source": [
    "for cientista in colunas:\n",
    "    dia = df[cientista]['dia']\n",
    "    mes = df[cientista]['mes']\n",
    "    if dia>=20 and dia<=31 and mes==3 or dia>=1 and dia<=20 and mes==4:\n",
    "        print(f\"{cientista} é de aries\")\n",
    "    elif dia>=21 and dia<=30 and mes==4 or dia>=1 and dia<=20 and mes==5:\n",
    "        print(f\"{cientista} é de touro\")\n",
    "    elif dia>=21 and dia<=31 and mes==5 or dia>=1 and dia<=20 and mes==6:\n",
    "        print(f\"{cientista} é de gemeos\")\n",
    "    elif dia>=21 and dia<=30 and mes==6 or dia>=1 and dia<=21 and mes==7:\n",
    "        print(f\"{cientista} é de cancer\")\n",
    "    elif dia>=22 and dia<=31 and mes==7 or dia>=1 and dia<=22 and mes==8:\n",
    "        print(f\"{cientista} é de leao\")\n",
    "    elif dia>=22 and dia<=31 and mes==8 or dia>=1 and dia<=22 and mes==9:\n",
    "        print(f\"{cientista} é de virgem\")\n",
    "    elif dia>=22 and dia<=30 and mes==9 or dia>=1 and dia<=22 and mes==10:\n",
    "        print(f\"{cientista} é de libra\")\n",
    "    elif dia>=23 and dia <=31 and mes==10 or dia>=1 and dia<=21 and mes==11:\n",
    "        print(f\"{cientista} é de escorpiao\")\n",
    "    elif dia>=22 and dia<=30 and mes==11 or dia>=1 and dia<=21 and mes==12:\n",
    "        print(f\"{cientista} é de sagitario\")\n",
    "    elif dia>=22 and dia<=31 and mes==12 or dia>=1 and dia<=20 and mes==1:\n",
    "        print(f\"{cientista} é de capricornio\")\n",
    "    elif dia>=21 and dia<=31 and mes==1 or dia>=1 and dia<=18 and mes==2:\n",
    "        print(f\"{cientista} é de aquario\")\n",
    "    elif dia>=19 and dia<=29 and mes==2 or dia>=1 and dia<=19 and mes==3:\n",
    "        print(f\"{cientista} é de peixes\")\n",
    "  "
   ]
  },
  {
   "cell_type": "code",
   "execution_count": 0,
   "metadata": {
    "collapsed": false
   },
   "outputs": [
   ],
   "source": [
   ]
  },
  {
   "cell_type": "code",
   "execution_count": 0,
   "metadata": {
    "collapsed": false
   },
   "outputs": [
   ],
   "source": [
   ]
  },
  {
   "cell_type": "code",
   "execution_count": 0,
   "metadata": {
    "collapsed": false
   },
   "outputs": [
   ],
   "source": [
   ]
  },
  {
   "cell_type": "code",
   "execution_count": 0,
   "metadata": {
    "collapsed": false
   },
   "outputs": [
   ],
   "source": [
   ]
  },
  {
   "cell_type": "code",
   "execution_count": 0,
   "metadata": {
    "collapsed": false
   },
   "outputs": [
   ],
   "source": [
   ]
  }
 ],
 "metadata": {
  "kernelspec": {
   "display_name": "Python 3 (system-wide)",
   "language": "python",
   "metadata": {
    "cocalc": {
     "description": "Python 3 programming language",
     "priority": 100,
     "url": "https://www.python.org/"
    }
   },
   "name": "python3",
   "resource_dir": "/ext/jupyter/kernels/python3"
  },
  "language_info": {
   "codemirror_mode": {
    "name": "ipython",
    "version": 3
   },
   "file_extension": ".py",
   "mimetype": "text/x-python",
   "name": "python",
   "nbconvert_exporter": "python",
   "pygments_lexer": "ipython3",
   "version": "3.8.10"
  }
 },
 "nbformat": 4,
 "nbformat_minor": 4
}